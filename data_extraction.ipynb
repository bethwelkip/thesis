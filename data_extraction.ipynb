{
 "cells": [
  {
   "cell_type": "code",
   "execution_count": 20,
   "id": "71b5e8dc",
   "metadata": {},
   "outputs": [],
   "source": [
    "import os, requests, io\n",
    "from zipfile import ZipFile"
   ]
  },
  {
   "cell_type": "code",
   "execution_count": 21,
   "id": "ca0fd70b",
   "metadata": {},
   "outputs": [],
   "source": [
    "# tokens\n",
    "tokens = {\"mae_3\": \"mn5XCJlbPJsLmjrWsoA8u2fLDacKszeA\",\n",
    "\"mae_4\": \"AP09xUxR1HUT-GVgqkmvbIead4LXJqoP\" , \n",
    "\"mae_5\": \"mFcaifXL31YCJWevERXyps7BnYUmTO0l\" ,\n",
    "\"mae_6\": \"DNqKgoqNyQufY5O3gWZriuHmvD3q7KDc\" ,\n",
    "\"mae_7\": \"mNp53OSnvMEG7BC3KCA3irMwAyzqM_H5\",\n",
    "\"mae_10\": \"h1M_ZloD1NBWuOuR9HOH-AbaDte6JnKN\",\n",
    "\"mae_11\": \"9eX4f47t9E4wq0-1rhM68lKKyfituzTa\",\n",
    "\"mae_12\": \"B7fBl_ZNuuin1sXOE5NiUr9QSblHTr1b\",\n",
    "\"mae_13\": \"bbzLB3y5v1Po2QG7cyPbyiVnbfzYZXQw\",}"
   ]
  },
  {
   "cell_type": "code",
   "execution_count": null,
   "id": "f5c5a21f",
   "metadata": {},
   "outputs": [],
   "source": [
    "\n",
    "curr_path = \"./data/friend_center/\"\n",
    "if not os.path.isdir(curr_path):\n",
    "   os.makedirs(curr_path)\n",
    "\n",
    "for key, val in tokens.items():\n",
    "    url = f\"https://blynk.cloud/external/api/data/get?token={val}&period=MONTH&granularityType=MINUTE&sourceType=AVG&tzName=America/New_York&format=ISO_SIMPLE&sendEvents=false&output=FILE\"\n",
    "    zip_url = requests.get(url).json()['link']\n",
    "    r = requests.get(zip_url)\n",
    "    z = ZipFile(io.BytesIO(r.content))\n",
    "    z.extractall(curr_path)\n",
    "    \n",
    "\n",
    "    "
   ]
  },
  {
   "cell_type": "code",
   "execution_count": 19,
   "id": "103bfbfa",
   "metadata": {},
   "outputs": [
    {
     "data": {
      "text/plain": [
       "512"
      ]
     },
     "execution_count": 19,
     "metadata": {},
     "output_type": "execute_result"
    }
   ],
   "source": [
    "os.system(\"awk  '{if ($0 < '2022-04-11 21:08:00' ) print $0}'    ./data/blackbox/MAED1mini03_16833_data.csv >./data/blackbox/data.csv \")\n"
   ]
  },
  {
   "cell_type": "code",
   "execution_count": null,
   "id": "2db4c4e0",
   "metadata": {},
   "outputs": [],
   "source": []
  },
  {
   "cell_type": "code",
   "execution_count": null,
   "id": "45a8b7f9",
   "metadata": {},
   "outputs": [],
   "source": []
  }
 ],
 "metadata": {
  "kernelspec": {
   "display_name": "Python 3",
   "language": "python",
   "name": "python3"
  },
  "language_info": {
   "codemirror_mode": {
    "name": "ipython",
    "version": 3
   },
   "file_extension": ".py",
   "mimetype": "text/x-python",
   "name": "python",
   "nbconvert_exporter": "python",
   "pygments_lexer": "ipython3",
   "version": "3.8.8"
  }
 },
 "nbformat": 4,
 "nbformat_minor": 5
}
